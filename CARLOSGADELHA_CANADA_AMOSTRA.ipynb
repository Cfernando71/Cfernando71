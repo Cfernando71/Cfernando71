{
  "nbformat": 4,
  "nbformat_minor": 0,
  "metadata": {
    "colab": {
      "provenance": [],
      "authorship_tag": "ABX9TyMhiQ2TNebKDV+RFNGHApcg",
      "include_colab_link": true
    },
    "kernelspec": {
      "name": "python3",
      "display_name": "Python 3"
    },
    "language_info": {
      "name": "python"
    }
  },
  "cells": [
    {
      "cell_type": "markdown",
      "metadata": {
        "id": "view-in-github",
        "colab_type": "text"
      },
      "source": [
        "<a href=\"https://colab.research.google.com/github/Cfernando71/Cfernando71/blob/main/CARLOSGADELHA_CANADA_AMOSTRA.ipynb\" target=\"_parent\"><img src=\"https://colab.research.google.com/assets/colab-badge.svg\" alt=\"Open In Colab\"/></a>"
      ]
    },
    {
      "cell_type": "code",
      "execution_count": 1,
      "metadata": {
        "id": "JnDzQgMNA9oq"
      },
      "outputs": [],
      "source": [
        "import pandas as pd\n",
        "from sklearn.model_selection import train_test_split\n",
        "from sklearn.feature_extraction.text import TfidfVectorizer\n",
        "from sklearn.ensemble import RandomForestClassifier\n",
        "from sklearn.metrics import accuracy_score, classification_report\n",
        "from sklearn.preprocessing import LabelEncoder\n",
        "from sklearn.compose import ColumnTransformer\n",
        "from sklearn.base import BaseEstimator, TransformerMixin\n",
        "from sklearn.pipeline import make_pipeline"
      ]
    },
    {
      "cell_type": "code",
      "source": [
        "# Carregar arquivo .xlsm\n",
        "df = pd.read_excel('/content/Planilha em First_Desafio_ciencia_de_dados_SR (1) 1 (1) (2).xlsm')"
      ],
      "metadata": {
        "id": "Dfi3GqIiBVQn"
      },
      "execution_count": 2,
      "outputs": []
    },
    {
      "cell_type": "code",
      "source": [
        "# Mostrar Cabeçalho\n",
        "df.head()"
      ],
      "metadata": {
        "colab": {
          "base_uri": "https://localhost:8080/",
          "height": 530
        },
        "id": "aR6R6ZJCBfbk",
        "outputId": "06213347-9aa9-458f-9456-4462318b77b3"
      },
      "execution_count": 3,
      "outputs": [
        {
          "output_type": "execute_result",
          "data": {
            "text/plain": [
              "         name                                        description employees  \\\n",
              "0       fitin  fitin is the latest fit tech platform that pro...       1.0   \n",
              "1  quinditech  our services include independent & collaborati...      10.0   \n",
              "2    botfirst  chatlanding is a digital chatbot platform wher...       1.0   \n",
              "3     bravver  ai-powered army of health professionals in you...       1.0   \n",
              "4     stylify  stylify is a mobile platform that connects peo...       1.0   \n",
              "\n",
              "  total_funding      city subcountry                lat                lng  \\\n",
              "0           NaN   toronto    ontario  43700109999999904            -794163   \n",
              "1           NaN  montreal     quebec            4550884           -7358781   \n",
              "2           NaN   toronto    ontario  43700109999999904            -794163   \n",
              "3           NaN    quebec     quebec          468259601  -7123522259999990   \n",
              "4           NaN   toronto    ontario  43700109999999904            -794163   \n",
              "\n",
              "  Unnamed: 8 Unnamed: 9 Unnamed: 10 Unnamed: 11 Unnamed: 12 Unnamed: 13  \\\n",
              "0        NaN        NaN         NaN         NaN         NaN         NaN   \n",
              "1        NaN        NaN         NaN         NaN         NaN         NaN   \n",
              "2        NaN        NaN         NaN         NaN         NaN         NaN   \n",
              "3        NaN        NaN         NaN         NaN         NaN         NaN   \n",
              "4        NaN        NaN         NaN         NaN         NaN         NaN   \n",
              "\n",
              "  Unnamed: 14 Unnamed: 15  Unnamed: 16  Unnamed: 17 Unnamed: 18  \n",
              "0         NaN         NaN          NaN          NaN         NaN  \n",
              "1         NaN         NaN          NaN          NaN         NaN  \n",
              "2         NaN         NaN          NaN          NaN         NaN  \n",
              "3         NaN         NaN          NaN          NaN         NaN  \n",
              "4         NaN         NaN          NaN          NaN         NaN  "
            ],
            "text/html": [
              "\n",
              "  <div id=\"df-3971db53-5f59-4d3d-9124-ca7c63a53efb\" class=\"colab-df-container\">\n",
              "    <div>\n",
              "<style scoped>\n",
              "    .dataframe tbody tr th:only-of-type {\n",
              "        vertical-align: middle;\n",
              "    }\n",
              "\n",
              "    .dataframe tbody tr th {\n",
              "        vertical-align: top;\n",
              "    }\n",
              "\n",
              "    .dataframe thead th {\n",
              "        text-align: right;\n",
              "    }\n",
              "</style>\n",
              "<table border=\"1\" class=\"dataframe\">\n",
              "  <thead>\n",
              "    <tr style=\"text-align: right;\">\n",
              "      <th></th>\n",
              "      <th>name</th>\n",
              "      <th>description</th>\n",
              "      <th>employees</th>\n",
              "      <th>total_funding</th>\n",
              "      <th>city</th>\n",
              "      <th>subcountry</th>\n",
              "      <th>lat</th>\n",
              "      <th>lng</th>\n",
              "      <th>Unnamed: 8</th>\n",
              "      <th>Unnamed: 9</th>\n",
              "      <th>Unnamed: 10</th>\n",
              "      <th>Unnamed: 11</th>\n",
              "      <th>Unnamed: 12</th>\n",
              "      <th>Unnamed: 13</th>\n",
              "      <th>Unnamed: 14</th>\n",
              "      <th>Unnamed: 15</th>\n",
              "      <th>Unnamed: 16</th>\n",
              "      <th>Unnamed: 17</th>\n",
              "      <th>Unnamed: 18</th>\n",
              "    </tr>\n",
              "  </thead>\n",
              "  <tbody>\n",
              "    <tr>\n",
              "      <th>0</th>\n",
              "      <td>fitin</td>\n",
              "      <td>fitin is the latest fit tech platform that pro...</td>\n",
              "      <td>1.0</td>\n",
              "      <td>NaN</td>\n",
              "      <td>toronto</td>\n",
              "      <td>ontario</td>\n",
              "      <td>43700109999999904</td>\n",
              "      <td>-794163</td>\n",
              "      <td>NaN</td>\n",
              "      <td>NaN</td>\n",
              "      <td>NaN</td>\n",
              "      <td>NaN</td>\n",
              "      <td>NaN</td>\n",
              "      <td>NaN</td>\n",
              "      <td>NaN</td>\n",
              "      <td>NaN</td>\n",
              "      <td>NaN</td>\n",
              "      <td>NaN</td>\n",
              "      <td>NaN</td>\n",
              "    </tr>\n",
              "    <tr>\n",
              "      <th>1</th>\n",
              "      <td>quinditech</td>\n",
              "      <td>our services include independent &amp; collaborati...</td>\n",
              "      <td>10.0</td>\n",
              "      <td>NaN</td>\n",
              "      <td>montreal</td>\n",
              "      <td>quebec</td>\n",
              "      <td>4550884</td>\n",
              "      <td>-7358781</td>\n",
              "      <td>NaN</td>\n",
              "      <td>NaN</td>\n",
              "      <td>NaN</td>\n",
              "      <td>NaN</td>\n",
              "      <td>NaN</td>\n",
              "      <td>NaN</td>\n",
              "      <td>NaN</td>\n",
              "      <td>NaN</td>\n",
              "      <td>NaN</td>\n",
              "      <td>NaN</td>\n",
              "      <td>NaN</td>\n",
              "    </tr>\n",
              "    <tr>\n",
              "      <th>2</th>\n",
              "      <td>botfirst</td>\n",
              "      <td>chatlanding is a digital chatbot platform wher...</td>\n",
              "      <td>1.0</td>\n",
              "      <td>NaN</td>\n",
              "      <td>toronto</td>\n",
              "      <td>ontario</td>\n",
              "      <td>43700109999999904</td>\n",
              "      <td>-794163</td>\n",
              "      <td>NaN</td>\n",
              "      <td>NaN</td>\n",
              "      <td>NaN</td>\n",
              "      <td>NaN</td>\n",
              "      <td>NaN</td>\n",
              "      <td>NaN</td>\n",
              "      <td>NaN</td>\n",
              "      <td>NaN</td>\n",
              "      <td>NaN</td>\n",
              "      <td>NaN</td>\n",
              "      <td>NaN</td>\n",
              "    </tr>\n",
              "    <tr>\n",
              "      <th>3</th>\n",
              "      <td>bravver</td>\n",
              "      <td>ai-powered army of health professionals in you...</td>\n",
              "      <td>1.0</td>\n",
              "      <td>NaN</td>\n",
              "      <td>quebec</td>\n",
              "      <td>quebec</td>\n",
              "      <td>468259601</td>\n",
              "      <td>-7123522259999990</td>\n",
              "      <td>NaN</td>\n",
              "      <td>NaN</td>\n",
              "      <td>NaN</td>\n",
              "      <td>NaN</td>\n",
              "      <td>NaN</td>\n",
              "      <td>NaN</td>\n",
              "      <td>NaN</td>\n",
              "      <td>NaN</td>\n",
              "      <td>NaN</td>\n",
              "      <td>NaN</td>\n",
              "      <td>NaN</td>\n",
              "    </tr>\n",
              "    <tr>\n",
              "      <th>4</th>\n",
              "      <td>stylify</td>\n",
              "      <td>stylify is a mobile platform that connects peo...</td>\n",
              "      <td>1.0</td>\n",
              "      <td>NaN</td>\n",
              "      <td>toronto</td>\n",
              "      <td>ontario</td>\n",
              "      <td>43700109999999904</td>\n",
              "      <td>-794163</td>\n",
              "      <td>NaN</td>\n",
              "      <td>NaN</td>\n",
              "      <td>NaN</td>\n",
              "      <td>NaN</td>\n",
              "      <td>NaN</td>\n",
              "      <td>NaN</td>\n",
              "      <td>NaN</td>\n",
              "      <td>NaN</td>\n",
              "      <td>NaN</td>\n",
              "      <td>NaN</td>\n",
              "      <td>NaN</td>\n",
              "    </tr>\n",
              "  </tbody>\n",
              "</table>\n",
              "</div>\n",
              "    <div class=\"colab-df-buttons\">\n",
              "\n",
              "  <div class=\"colab-df-container\">\n",
              "    <button class=\"colab-df-convert\" onclick=\"convertToInteractive('df-3971db53-5f59-4d3d-9124-ca7c63a53efb')\"\n",
              "            title=\"Convert this dataframe to an interactive table.\"\n",
              "            style=\"display:none;\">\n",
              "\n",
              "  <svg xmlns=\"http://www.w3.org/2000/svg\" height=\"24px\" viewBox=\"0 -960 960 960\">\n",
              "    <path d=\"M120-120v-720h720v720H120Zm60-500h600v-160H180v160Zm220 220h160v-160H400v160Zm0 220h160v-160H400v160ZM180-400h160v-160H180v160Zm440 0h160v-160H620v160ZM180-180h160v-160H180v160Zm440 0h160v-160H620v160Z\"/>\n",
              "  </svg>\n",
              "    </button>\n",
              "\n",
              "  <style>\n",
              "    .colab-df-container {\n",
              "      display:flex;\n",
              "      gap: 12px;\n",
              "    }\n",
              "\n",
              "    .colab-df-convert {\n",
              "      background-color: #E8F0FE;\n",
              "      border: none;\n",
              "      border-radius: 50%;\n",
              "      cursor: pointer;\n",
              "      display: none;\n",
              "      fill: #1967D2;\n",
              "      height: 32px;\n",
              "      padding: 0 0 0 0;\n",
              "      width: 32px;\n",
              "    }\n",
              "\n",
              "    .colab-df-convert:hover {\n",
              "      background-color: #E2EBFA;\n",
              "      box-shadow: 0px 1px 2px rgba(60, 64, 67, 0.3), 0px 1px 3px 1px rgba(60, 64, 67, 0.15);\n",
              "      fill: #174EA6;\n",
              "    }\n",
              "\n",
              "    .colab-df-buttons div {\n",
              "      margin-bottom: 4px;\n",
              "    }\n",
              "\n",
              "    [theme=dark] .colab-df-convert {\n",
              "      background-color: #3B4455;\n",
              "      fill: #D2E3FC;\n",
              "    }\n",
              "\n",
              "    [theme=dark] .colab-df-convert:hover {\n",
              "      background-color: #434B5C;\n",
              "      box-shadow: 0px 1px 3px 1px rgba(0, 0, 0, 0.15);\n",
              "      filter: drop-shadow(0px 1px 2px rgba(0, 0, 0, 0.3));\n",
              "      fill: #FFFFFF;\n",
              "    }\n",
              "  </style>\n",
              "\n",
              "    <script>\n",
              "      const buttonEl =\n",
              "        document.querySelector('#df-3971db53-5f59-4d3d-9124-ca7c63a53efb button.colab-df-convert');\n",
              "      buttonEl.style.display =\n",
              "        google.colab.kernel.accessAllowed ? 'block' : 'none';\n",
              "\n",
              "      async function convertToInteractive(key) {\n",
              "        const element = document.querySelector('#df-3971db53-5f59-4d3d-9124-ca7c63a53efb');\n",
              "        const dataTable =\n",
              "          await google.colab.kernel.invokeFunction('convertToInteractive',\n",
              "                                                    [key], {});\n",
              "        if (!dataTable) return;\n",
              "\n",
              "        const docLinkHtml = 'Like what you see? Visit the ' +\n",
              "          '<a target=\"_blank\" href=https://colab.research.google.com/notebooks/data_table.ipynb>data table notebook</a>'\n",
              "          + ' to learn more about interactive tables.';\n",
              "        element.innerHTML = '';\n",
              "        dataTable['output_type'] = 'display_data';\n",
              "        await google.colab.output.renderOutput(dataTable, element);\n",
              "        const docLink = document.createElement('div');\n",
              "        docLink.innerHTML = docLinkHtml;\n",
              "        element.appendChild(docLink);\n",
              "      }\n",
              "    </script>\n",
              "  </div>\n",
              "\n",
              "\n",
              "<div id=\"df-0ceb9375-74c7-4110-9e05-e7e3f4b0b481\">\n",
              "  <button class=\"colab-df-quickchart\" onclick=\"quickchart('df-0ceb9375-74c7-4110-9e05-e7e3f4b0b481')\"\n",
              "            title=\"Suggest charts\"\n",
              "            style=\"display:none;\">\n",
              "\n",
              "<svg xmlns=\"http://www.w3.org/2000/svg\" height=\"24px\"viewBox=\"0 0 24 24\"\n",
              "     width=\"24px\">\n",
              "    <g>\n",
              "        <path d=\"M19 3H5c-1.1 0-2 .9-2 2v14c0 1.1.9 2 2 2h14c1.1 0 2-.9 2-2V5c0-1.1-.9-2-2-2zM9 17H7v-7h2v7zm4 0h-2V7h2v10zm4 0h-2v-4h2v4z\"/>\n",
              "    </g>\n",
              "</svg>\n",
              "  </button>\n",
              "\n",
              "<style>\n",
              "  .colab-df-quickchart {\n",
              "      --bg-color: #E8F0FE;\n",
              "      --fill-color: #1967D2;\n",
              "      --hover-bg-color: #E2EBFA;\n",
              "      --hover-fill-color: #174EA6;\n",
              "      --disabled-fill-color: #AAA;\n",
              "      --disabled-bg-color: #DDD;\n",
              "  }\n",
              "\n",
              "  [theme=dark] .colab-df-quickchart {\n",
              "      --bg-color: #3B4455;\n",
              "      --fill-color: #D2E3FC;\n",
              "      --hover-bg-color: #434B5C;\n",
              "      --hover-fill-color: #FFFFFF;\n",
              "      --disabled-bg-color: #3B4455;\n",
              "      --disabled-fill-color: #666;\n",
              "  }\n",
              "\n",
              "  .colab-df-quickchart {\n",
              "    background-color: var(--bg-color);\n",
              "    border: none;\n",
              "    border-radius: 50%;\n",
              "    cursor: pointer;\n",
              "    display: none;\n",
              "    fill: var(--fill-color);\n",
              "    height: 32px;\n",
              "    padding: 0;\n",
              "    width: 32px;\n",
              "  }\n",
              "\n",
              "  .colab-df-quickchart:hover {\n",
              "    background-color: var(--hover-bg-color);\n",
              "    box-shadow: 0 1px 2px rgba(60, 64, 67, 0.3), 0 1px 3px 1px rgba(60, 64, 67, 0.15);\n",
              "    fill: var(--button-hover-fill-color);\n",
              "  }\n",
              "\n",
              "  .colab-df-quickchart-complete:disabled,\n",
              "  .colab-df-quickchart-complete:disabled:hover {\n",
              "    background-color: var(--disabled-bg-color);\n",
              "    fill: var(--disabled-fill-color);\n",
              "    box-shadow: none;\n",
              "  }\n",
              "\n",
              "  .colab-df-spinner {\n",
              "    border: 2px solid var(--fill-color);\n",
              "    border-color: transparent;\n",
              "    border-bottom-color: var(--fill-color);\n",
              "    animation:\n",
              "      spin 1s steps(1) infinite;\n",
              "  }\n",
              "\n",
              "  @keyframes spin {\n",
              "    0% {\n",
              "      border-color: transparent;\n",
              "      border-bottom-color: var(--fill-color);\n",
              "      border-left-color: var(--fill-color);\n",
              "    }\n",
              "    20% {\n",
              "      border-color: transparent;\n",
              "      border-left-color: var(--fill-color);\n",
              "      border-top-color: var(--fill-color);\n",
              "    }\n",
              "    30% {\n",
              "      border-color: transparent;\n",
              "      border-left-color: var(--fill-color);\n",
              "      border-top-color: var(--fill-color);\n",
              "      border-right-color: var(--fill-color);\n",
              "    }\n",
              "    40% {\n",
              "      border-color: transparent;\n",
              "      border-right-color: var(--fill-color);\n",
              "      border-top-color: var(--fill-color);\n",
              "    }\n",
              "    60% {\n",
              "      border-color: transparent;\n",
              "      border-right-color: var(--fill-color);\n",
              "    }\n",
              "    80% {\n",
              "      border-color: transparent;\n",
              "      border-right-color: var(--fill-color);\n",
              "      border-bottom-color: var(--fill-color);\n",
              "    }\n",
              "    90% {\n",
              "      border-color: transparent;\n",
              "      border-bottom-color: var(--fill-color);\n",
              "    }\n",
              "  }\n",
              "</style>\n",
              "\n",
              "  <script>\n",
              "    async function quickchart(key) {\n",
              "      const quickchartButtonEl =\n",
              "        document.querySelector('#' + key + ' button');\n",
              "      quickchartButtonEl.disabled = true;  // To prevent multiple clicks.\n",
              "      quickchartButtonEl.classList.add('colab-df-spinner');\n",
              "      try {\n",
              "        const charts = await google.colab.kernel.invokeFunction(\n",
              "            'suggestCharts', [key], {});\n",
              "      } catch (error) {\n",
              "        console.error('Error during call to suggestCharts:', error);\n",
              "      }\n",
              "      quickchartButtonEl.classList.remove('colab-df-spinner');\n",
              "      quickchartButtonEl.classList.add('colab-df-quickchart-complete');\n",
              "    }\n",
              "    (() => {\n",
              "      let quickchartButtonEl =\n",
              "        document.querySelector('#df-0ceb9375-74c7-4110-9e05-e7e3f4b0b481 button');\n",
              "      quickchartButtonEl.style.display =\n",
              "        google.colab.kernel.accessAllowed ? 'block' : 'none';\n",
              "    })();\n",
              "  </script>\n",
              "</div>\n",
              "\n",
              "    </div>\n",
              "  </div>\n"
            ]
          },
          "metadata": {},
          "execution_count": 3
        }
      ]
    },
    {
      "cell_type": "code",
      "source": [
        "# Eliminar colunas desnecessárias\n",
        "df = df.drop(['Unnamed: 8', 'Unnamed: 9', 'Unnamed: 10', 'Unnamed: 11', 'Unnamed: 12', 'Unnamed: 13', 'Unnamed: 14', 'Unnamed: 15', 'Unnamed: 16', 'Unnamed: 17', 'Unnamed: 18'], axis=1)\n",
        "print(df.columns)"
      ],
      "metadata": {
        "colab": {
          "base_uri": "https://localhost:8080/"
        },
        "id": "raOonOZlFIFp",
        "outputId": "6536163d-2a8f-42df-c25b-e73617715a58"
      },
      "execution_count": 4,
      "outputs": [
        {
          "output_type": "stream",
          "name": "stdout",
          "text": [
            "Index(['name', 'description', 'employees', 'total_funding', 'city',\n",
            "       'subcountry', 'lat', 'lng'],\n",
            "      dtype='object')\n"
          ]
        }
      ]
    },
    {
      "cell_type": "code",
      "source": [
        "#Machine Learning (APENAS COM FUNÇÃO) capaz de selecionar as principais empresas indicadas para desenvolver a solução\n",
        "\n",
        "# Preencher valores nulos na coluna 'description'\n",
        "df['description'].fillna('', inplace=True)\n",
        "\n",
        "# Defina os termos relacionados à água\n",
        "water_related_terms = ['solutions on waste and water', 'improve water quality', 'water efficiency use', 'water contamination', 'water for human consumption', 'water resources']\n",
        "\n",
        "# Criar uma função para verificar se a descrição contém os termos relacionados à água\n",
        "def contains_water_terms(description):\n",
        "    for term in water_related_terms:\n",
        "        if term in description.lower():\n",
        "            return 1\n",
        "    return 0\n",
        "\n",
        "# Aplicar a função para criar a nova coluna\n",
        "df['water_related_solution'] = df['description'].apply(contains_water_terms)\n",
        "\n",
        "# Exibir as empresas com soluções relacionadas à água\n",
        "water_related_companies = df[df['water_related_solution'] == 1]\n",
        "print(water_related_companies[['name', 'description']])\n"
      ],
      "metadata": {
        "colab": {
          "base_uri": "https://localhost:8080/"
        },
        "id": "ev8g2j4PP8j6",
        "outputId": "4bc89bb6-f058-4384-88bf-90adf7e1c33e"
      },
      "execution_count": 18,
      "outputs": [
        {
          "output_type": "stream",
          "name": "stdout",
          "text": [
            "               name                                        description\n",
            "9410          ofbug  ofbug farms organic insects as a sustainable, ...\n",
            "18926  aquanty inc.  aquanty is a water resources technology firm p...\n",
            "19846     sustainco  sustainco inc. (tsxv:sms) invests in growth, g...\n"
          ]
        }
      ]
    },
    {
      "cell_type": "code",
      "source": [
        "#Machine Learning (COM BIBLIOTECA NLTK) capaz de selecionar as principais empresas indicadas para desenvolver a solução\n",
        "import nltk\n",
        "nltk.download('punkt')\n",
        "from nltk.corpus import stopwords\n",
        "from nltk.tokenize import word_tokenize\n",
        "\n",
        "# Faça o download das stopwords (se ainda não tiver feito)\n",
        "nltk.download('stopwords')"
      ],
      "metadata": {
        "colab": {
          "base_uri": "https://localhost:8080/"
        },
        "id": "FziCkuWNR9zL",
        "outputId": "70c39d50-1f45-49aa-a68e-5d4902153bd2"
      },
      "execution_count": 7,
      "outputs": [
        {
          "output_type": "stream",
          "name": "stderr",
          "text": [
            "[nltk_data] Downloading package punkt to /root/nltk_data...\n",
            "[nltk_data]   Unzipping tokenizers/punkt.zip.\n",
            "[nltk_data] Downloading package stopwords to /root/nltk_data...\n",
            "[nltk_data]   Unzipping corpora/stopwords.zip.\n"
          ]
        },
        {
          "output_type": "execute_result",
          "data": {
            "text/plain": [
              "True"
            ]
          },
          "metadata": {},
          "execution_count": 7
        }
      ]
    },
    {
      "cell_type": "code",
      "source": [
        "#Machine Learning (COM BIBLIOTECA NLTK) capaz de selecionar as principais empresas indicadas para desenvolver a solução\n",
        "\n",
        "\n",
        "# Definir os termos relacionados à água\n",
        "water_related_terms = ['solutions on waste and water', 'improve water quality', 'water efficiency use', 'water contamination', 'water for human consumption', 'water resources']\n",
        "\n",
        "# Criar uma função para verificar se a descrição contém os termos relacionados à água\n",
        "def contains_water_terms(description):\n",
        "    description = str(description).lower()  # Converte para minúsculas\n",
        "    words = word_tokenize(description)  # Tokeniza as palavras\n",
        "    filtered_words = [word for word in words if word not in stopwords.words('english')]  # Remove stopwords\n",
        "    for term in water_related_terms:\n",
        "        if term in ' '.join(filtered_words):\n",
        "            return 1\n",
        "    return 0\n",
        "\n",
        "# Aplicar a função para criar a nova coluna\n",
        "df['water_related_solution'] = df['description'].apply(contains_water_terms)\n",
        "\n",
        "# Exibir as empresas com soluções relacionadas à água\n",
        "water_related_companies = df[df['water_related_solution'] == 1]\n",
        "print(water_related_companies[['name', 'description']])"
      ],
      "metadata": {
        "colab": {
          "base_uri": "https://localhost:8080/"
        },
        "id": "A3Rb9RXCTAfK",
        "outputId": "77d9a0ed-dd35-4dde-99cf-480fac4ffbe5"
      },
      "execution_count": 8,
      "outputs": [
        {
          "output_type": "stream",
          "name": "stdout",
          "text": [
            "               name                                        description\n",
            "9410          ofbug  ofbug farms organic insects as a sustainable, ...\n",
            "18926  aquanty inc.  aquanty is a water resources technology firm p...\n",
            "19846     sustainco  sustainco inc. (tsxv:sms) invests in growth, g...\n"
          ]
        }
      ]
    },
    {
      "cell_type": "code",
      "source": [
        "#Quais são as principais cidades (pólos de desenvolvimento) para essa solução(tratamento de água)?\n",
        "\n",
        "# Defina os termos relacionados à água\n",
        "water_related_terms = ['solutions on waste and water', 'improve water quality', 'water efficiency use', 'water contamination', 'water for human consumption', 'water resources']\n",
        "\n",
        "# Crie uma função para verificar se a descrição contém os termos relacionados à água\n",
        "def contains_water_terms(description):\n",
        "    description = str(description).lower()\n",
        "    for term in water_related_terms:\n",
        "        if term in description:\n",
        "            return 1\n",
        "    return 0\n",
        "\n",
        "# Aplique a função para criar a nova coluna\n",
        "df['water_related_solution'] = df['description'].apply(contains_water_terms)\n",
        "\n",
        "# Filtrar empresas com soluções relacionadas à água\n",
        "water_related_companies = df[df['water_related_solution'] == 1]\n",
        "\n",
        "# Contar a frequência das principais cidades\n",
        "top_cities = water_related_companies['city'].value_counts().head(10)  # Ajuste o número conforme necessário\n",
        "print(\"Principais cidades para soluções de tratamento de água:\")\n",
        "print(top_cities)\n"
      ],
      "metadata": {
        "colab": {
          "base_uri": "https://localhost:8080/"
        },
        "id": "EBEi5MCGX84q",
        "outputId": "bf2cfe90-8b10-49d3-a5d0-28fa2e0a533f"
      },
      "execution_count": 10,
      "outputs": [
        {
          "output_type": "stream",
          "name": "stdout",
          "text": [
            "Principais cidades para soluções de tratamento de água:\n",
            "toronto      2\n",
            "vancouver    1\n",
            "Name: city, dtype: int64\n"
          ]
        }
      ]
    },
    {
      "cell_type": "code",
      "source": [
        "#Que tal realizarmos uma análise de sentimento?\n",
        "\n",
        "import nltk\n",
        "from nltk.sentiment import SentimentIntensityAnalyzer\n",
        "\n",
        "# Faça o download do recurso VADER para análise de sentimentos\n",
        "nltk.download('vader_lexicon')\n",
        "\n",
        "# Inicialize o Sentiment Intensity Analyzer\n",
        "sia = SentimentIntensityAnalyzer()\n",
        "\n",
        "# Aplique a análise de sentimentos nas descrições\n",
        "df['sentiment_score'] = df['description'].apply(lambda x: sia.polarity_scores(str(x))['compound'])\n",
        "\n",
        "# Exiba as empresas com as descrições mais positivas\n",
        "positive_companies = df[df['sentiment_score'] > 0.2]  # Ajuste o limiar conforme necessário\n",
        "print(\"Empresas com descrições positivas:\")\n",
        "print(positive_companies[['name', 'description', 'sentiment_score']])"
      ],
      "metadata": {
        "colab": {
          "base_uri": "https://localhost:8080/"
        },
        "id": "x9-t8ameVzJo",
        "outputId": "fe73bcf1-94f2-4c1e-c935-526a4d41d77b"
      },
      "execution_count": 11,
      "outputs": [
        {
          "output_type": "stream",
          "name": "stderr",
          "text": [
            "[nltk_data] Downloading package vader_lexicon to /root/nltk_data...\n"
          ]
        },
        {
          "output_type": "stream",
          "name": "stdout",
          "text": [
            "Empresas com descrições positivas:\n",
            "                        name  \\\n",
            "0                      fitin   \n",
            "1                 quinditech   \n",
            "2                   botfirst   \n",
            "3                    bravver   \n",
            "5       peloton technologies   \n",
            "...                      ...   \n",
            "21291         nesscap energy   \n",
            "21292     eestor corporation   \n",
            "21294         h2o innovation   \n",
            "21295                  ovivo   \n",
            "21296  vertex resource group   \n",
            "\n",
            "                                             description  sentiment_score  \n",
            "0      fitin is the latest fit tech platform that pro...           0.9167  \n",
            "1      our services include independent & collaborati...           0.8442  \n",
            "2      chatlanding is a digital chatbot platform wher...           0.9201  \n",
            "3      ai-powered army of health professionals in you...           0.4404  \n",
            "5      peloton has developed a unique banking transac...           0.5859  \n",
            "...                                                  ...              ...  \n",
            "21291  nesscap manufactures industry leading ultracap...           0.2732  \n",
            "21292  eestor corporation's (the â€œcompanyâ€) missi...           0.7783  \n",
            "21294  h2o innovation is known for its state of the a...           0.8658  \n",
            "21295  ovivo is a world leader in equipment and solut...           0.6124  \n",
            "21296  vertex is a north american provider of environ...           0.6249  \n",
            "\n",
            "[16970 rows x 3 columns]\n"
          ]
        }
      ]
    },
    {
      "cell_type": "code",
      "source": [
        "#Ordenar Pela Maior Pontuação\n",
        "\n",
        "# Ordenar o DataFrame pela coluna 'sentiment_score' em ordem decrescente\n",
        "sorted_df_by_sentiment = df.sort_values(by='sentiment_score', ascending=False)\n",
        "\n",
        "# Exibir as empresas com as maiores pontuações de sentimento\n",
        "top_sentiment_companies = sorted_df_by_sentiment.head(10)  # Ajuste o número conforme necessário\n",
        "print(\"Top empresas com as maiores pontuações de sentimento:\")\n",
        "print(top_sentiment_companies[['name', 'description', 'sentiment_score']])\n"
      ],
      "metadata": {
        "colab": {
          "base_uri": "https://localhost:8080/"
        },
        "id": "qkYGT0lvXSRC",
        "outputId": "239881ea-7c9e-4902-f99e-46285137d261"
      },
      "execution_count": 12,
      "outputs": [
        {
          "output_type": "stream",
          "name": "stdout",
          "text": [
            "Top empresas com as maiores pontuações de sentimento:\n",
            "                               name  \\\n",
            "12912                       semanti   \n",
            "2122        new concept recruiting    \n",
            "20961                        semafo   \n",
            "11259        new concept recruiting   \n",
            "15885  concours chanceux du quÃ©bec   \n",
            "19289                  rocket foods   \n",
            "12890           sales talent agency   \n",
            "20209                   mirror read   \n",
            "19580                       flofoto   \n",
            "12005           discovery loft inc.   \n",
            "\n",
            "                                             description  sentiment_score  \n",
            "12912  semanti corporation develops smart social sear...           0.9990  \n",
            "2122   new concept recruiting is a premier talent acq...           0.9984  \n",
            "20961  semafoâ€™s corporate vision â€“ establish endu...           0.9984  \n",
            "11259  new concept recruiting is a premier talent acq...           0.9982  \n",
            "15885  welcome to concourschanceux.com!your reference...           0.9981  \n",
            "19289  in his mid-thirties, the founder of the compan...           0.9978  \n",
            "12890  sales talent agency is canada's best sales rec...           0.9977  \n",
            "20209  mirror read is an innovative educational game ...           0.9974  \n",
            "19580  we are tennille & zoe and together we are in o...           0.9972  \n",
            "12005  our ideas from zero-to-sixtytm venture studio ...           0.9971  \n"
          ]
        }
      ]
    },
    {
      "cell_type": "code",
      "source": [
        "#Desenvolver estatística para funcionários\n",
        "desc_stats = df[['employees', 'total_funding']].describe()\n",
        "print(desc_stats)\n"
      ],
      "metadata": {
        "colab": {
          "base_uri": "https://localhost:8080/"
        },
        "id": "UPNLs21cU0ha",
        "outputId": "8f740b48-407b-438e-9622-151d66c81ea5"
      },
      "execution_count": 13,
      "outputs": [
        {
          "output_type": "stream",
          "name": "stdout",
          "text": [
            "       employees total_funding\n",
            "count      20284          2186\n",
            "unique       119           977\n",
            "top          0.0             -\n",
            "freq        7946           635\n"
          ]
        }
      ]
    },
    {
      "cell_type": "code",
      "source": [
        "#Verificar qual empresa tem mais funcionários\n",
        "\n",
        "# Ordenar o DataFrame pela coluna 'employees' em ordem decrescente\n",
        "sorted_df_by_employees = df.sort_values(by='employees', ascending=False)\n",
        "\n",
        "# Exibir a empresa com o maior número de funcionários\n",
        "company_with_most_employees = sorted_df_by_employees.head(1)\n",
        "print(\"Empresa com mais funcionários:\")\n",
        "print(company_with_most_employees[['name']])\n"
      ],
      "metadata": {
        "colab": {
          "base_uri": "https://localhost:8080/"
        },
        "id": "QoJUDWqWVf2v",
        "outputId": "848f139e-f1b3-4753-b41b-5f05bb8e8b33"
      },
      "execution_count": 14,
      "outputs": [
        {
          "output_type": "stream",
          "name": "stdout",
          "text": [
            "Empresa com mais funcionários:\n",
            "                        name\n",
            "15687  bell aliant - defence\n"
          ]
        }
      ]
    },
    {
      "cell_type": "code",
      "source": [
        "!pip install folium"
      ],
      "metadata": {
        "colab": {
          "base_uri": "https://localhost:8080/"
        },
        "id": "Mh09D3RyYZy7",
        "outputId": "b122b0d1-2199-4f92-cb19-b3ffb067381d"
      },
      "execution_count": 15,
      "outputs": [
        {
          "output_type": "stream",
          "name": "stdout",
          "text": [
            "Requirement already satisfied: folium in /usr/local/lib/python3.10/dist-packages (0.14.0)\n",
            "Requirement already satisfied: branca>=0.6.0 in /usr/local/lib/python3.10/dist-packages (from folium) (0.7.0)\n",
            "Requirement already satisfied: jinja2>=2.9 in /usr/local/lib/python3.10/dist-packages (from folium) (3.1.3)\n",
            "Requirement already satisfied: numpy in /usr/local/lib/python3.10/dist-packages (from folium) (1.23.5)\n",
            "Requirement already satisfied: requests in /usr/local/lib/python3.10/dist-packages (from folium) (2.31.0)\n",
            "Requirement already satisfied: MarkupSafe>=2.0 in /usr/local/lib/python3.10/dist-packages (from jinja2>=2.9->folium) (2.1.3)\n",
            "Requirement already satisfied: charset-normalizer<4,>=2 in /usr/local/lib/python3.10/dist-packages (from requests->folium) (3.3.2)\n",
            "Requirement already satisfied: idna<4,>=2.5 in /usr/local/lib/python3.10/dist-packages (from requests->folium) (3.6)\n",
            "Requirement already satisfied: urllib3<3,>=1.21.1 in /usr/local/lib/python3.10/dist-packages (from requests->folium) (2.0.7)\n",
            "Requirement already satisfied: certifi>=2017.4.17 in /usr/local/lib/python3.10/dist-packages (from requests->folium) (2023.11.17)\n"
          ]
        }
      ]
    },
    {
      "cell_type": "code",
      "source": [
        "#Que tal vermos a distribuição da geolocalização das empresas?\n",
        "\n",
        "import folium\n",
        "\n",
        "# Convertendo as colunas 'lat' e 'lng' para números\n",
        "df['lat'] = pd.to_numeric(df['lat'], errors='coerce')\n",
        "df['lng'] = pd.to_numeric(df['lng'], errors='coerce')\n",
        "\n",
        "# Removendo linhas com valores nulos nas coordenadas\n",
        "df = df.dropna(subset=['lat', 'lng'])\n",
        "\n",
        "# Criar um mapa centrado nas coordenadas médias\n",
        "latitude_media = df['lat'].mean()\n",
        "longitude_media = df['lng'].mean()\n",
        "mapa = folium.Map(location=[latitude_media, longitude_media], zoom_start=4)\n",
        "\n",
        "# Adicionar marcadores para cada empresa\n",
        "for index, row in df.iterrows():\n",
        "    folium.Marker([row['lat'], row['lng']], popup=row['name']).add_to(mapa)\n",
        "\n",
        "# Exibir o mapa\n",
        "mapa\n"
      ],
      "metadata": {
        "id": "FVuO-M4MYf8a"
      },
      "execution_count": null,
      "outputs": []
    },
    {
      "cell_type": "code",
      "source": [
        "from sklearn.feature_extraction.text import TfidfVectorizer\n",
        "from sklearn.model_selection import train_test_split\n",
        "from sklearn.ensemble import RandomForestClassifier\n",
        "from sklearn.metrics import accuracy_score, classification_report\n",
        "\n",
        "\n",
        "df['description'].fillna('', inplace=True)  # Tratamento de valores nulos\n",
        "\n",
        "# Criar um vetorizador TF-IDF\n",
        "tfidf_vectorizer = TfidfVectorizer(max_features=1000, stop_words='english')  # Ajustar o número máximo de features conforme necessário\n",
        "\n",
        "# Aplicar o vetorizador à coluna 'description'\n",
        "X_tfidf = tfidf_vectorizer.fit_transform(df['description'])\n",
        "\n",
        "# Definir a variável alvo\n",
        "y = df['water_related_solution']\n",
        "\n",
        "# Dividir os dados em treino e teste\n",
        "X_train, X_test, y_train, y_test = train_test_split(X_tfidf, y, test_size=0.2, random_state=42)\n",
        "\n",
        "# Treinar um modelo simples, por exemplo, um RandomForestClassifier\n",
        "model = RandomForestClassifier(random_state=42)\n",
        "model.fit(X_train, y_train)\n",
        "\n",
        "# Fazer previsões\n",
        "y_pred = model.predict(X_test)\n",
        "\n",
        "# Avaliar o desempenho do modelo\n",
        "accuracy = accuracy_score(y_test, y_pred)\n",
        "classification_report_result = classification_report(y_test, y_pred)\n",
        "\n",
        "print(f'Acurácia do modelo: {accuracy}')\n",
        "print('Relatório de Classificação:')\n",
        "print(classification_report_result)\n",
        "\n",
        "\n"
      ],
      "metadata": {
        "id": "Yypk4iK-Ix8-",
        "outputId": "5fc4c199-f16d-4b00-a34b-ef1e76c56233",
        "colab": {
          "base_uri": "https://localhost:8080/"
        }
      },
      "execution_count": 19,
      "outputs": [
        {
          "output_type": "stream",
          "name": "stdout",
          "text": [
            "Acurácia do modelo: 1.0\n",
            "Relatório de Classificação:\n",
            "              precision    recall  f1-score   support\n",
            "\n",
            "           0       1.00      1.00      1.00      4260\n",
            "\n",
            "    accuracy                           1.00      4260\n",
            "   macro avg       1.00      1.00      1.00      4260\n",
            "weighted avg       1.00      1.00      1.00      4260\n",
            "\n"
          ]
        }
      ]
    }
  ]
}