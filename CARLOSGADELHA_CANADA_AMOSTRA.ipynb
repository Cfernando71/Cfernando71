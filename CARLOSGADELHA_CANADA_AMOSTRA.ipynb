{
  "nbformat": 4,
  "nbformat_minor": 0,
  "metadata": {
    "colab": {
      "provenance": [],
      "authorship_tag": "ABX9TyN7/ab9CBBXudq+xuoyqMi6",
      "include_colab_link": true
    },
    "kernelspec": {
      "name": "python3",
      "display_name": "Python 3"
    },
    "language_info": {
      "name": "python"
    }
  },
  "cells": [
    {
      "cell_type": "markdown",
      "metadata": {
        "id": "view-in-github",
        "colab_type": "text"
      },
      "source": [
        "<a href=\"https://colab.research.google.com/github/Cfernando71/Cfernando71/blob/main/CARLOSGADELHA_CANADA_AMOSTRA.ipynb\" target=\"_parent\"><img src=\"https://colab.research.google.com/assets/colab-badge.svg\" alt=\"Open In Colab\"/></a>"
      ]
    },
    {
      "cell_type": "code",
      "execution_count": 25,
      "metadata": {
        "id": "JnDzQgMNA9oq"
      },
      "outputs": [],
      "source": [
        "import pandas as pd\n",
        "from sklearn.model_selection import train_test_split\n",
        "from sklearn.feature_extraction.text import TfidfVectorizer\n",
        "from sklearn.ensemble import RandomForestClassifier\n",
        "from sklearn.metrics import accuracy_score, classification_report\n",
        "from sklearn.preprocessing import LabelEncoder\n",
        "from sklearn.compose import ColumnTransformer\n",
        "from sklearn.base import BaseEstimator, TransformerMixin\n",
        "from sklearn.pipeline import make_pipeline"
      ]
    },
    {
      "cell_type": "code",
      "source": [
        "# Carregar arquivo .xlsm\n",
        "df = pd.read_excel('/content/Planilha em First_Desafio_ciencia_de_dados_SR (1) 1 (1) (2).xlsm')"
      ],
      "metadata": {
        "id": "Dfi3GqIiBVQn"
      },
      "execution_count": 28,
      "outputs": []
    },
    {
      "cell_type": "code",
      "source": [
        "# Mostrar Cabeçalho\n",
        "df.head()"
      ],
      "metadata": {
        "colab": {
          "base_uri": "https://localhost:8080/",
          "height": 530
        },
        "id": "aR6R6ZJCBfbk",
        "outputId": "6d305db7-65b4-4345-da30-6038e2777e30"
      },
      "execution_count": 29,
      "outputs": [
        {
          "output_type": "execute_result",
          "data": {
            "text/plain": [
              "         name                                        description employees  \\\n",
              "0       fitin  fitin is the latest fit tech platform that pro...       1.0   \n",
              "1  quinditech  our services include independent & collaborati...      10.0   \n",
              "2    botfirst  chatlanding is a digital chatbot platform wher...       1.0   \n",
              "3     bravver  ai-powered army of health professionals in you...       1.0   \n",
              "4     stylify  stylify is a mobile platform that connects peo...       1.0   \n",
              "\n",
              "  total_funding      city subcountry                lat                lng  \\\n",
              "0           NaN   toronto    ontario  43700109999999904            -794163   \n",
              "1           NaN  montreal     quebec            4550884           -7358781   \n",
              "2           NaN   toronto    ontario  43700109999999904            -794163   \n",
              "3           NaN    quebec     quebec          468259601  -7123522259999990   \n",
              "4           NaN   toronto    ontario  43700109999999904            -794163   \n",
              "\n",
              "  Unnamed: 8 Unnamed: 9 Unnamed: 10 Unnamed: 11 Unnamed: 12 Unnamed: 13  \\\n",
              "0        NaN        NaN         NaN         NaN         NaN         NaN   \n",
              "1        NaN        NaN         NaN         NaN         NaN         NaN   \n",
              "2        NaN        NaN         NaN         NaN         NaN         NaN   \n",
              "3        NaN        NaN         NaN         NaN         NaN         NaN   \n",
              "4        NaN        NaN         NaN         NaN         NaN         NaN   \n",
              "\n",
              "  Unnamed: 14 Unnamed: 15  Unnamed: 16  Unnamed: 17 Unnamed: 18  \n",
              "0         NaN         NaN          NaN          NaN         NaN  \n",
              "1         NaN         NaN          NaN          NaN         NaN  \n",
              "2         NaN         NaN          NaN          NaN         NaN  \n",
              "3         NaN         NaN          NaN          NaN         NaN  \n",
              "4         NaN         NaN          NaN          NaN         NaN  "
            ],
            "text/html": [
              "\n",
              "  <div id=\"df-15ab1e15-38d2-4a03-964a-c0c5c754362c\" class=\"colab-df-container\">\n",
              "    <div>\n",
              "<style scoped>\n",
              "    .dataframe tbody tr th:only-of-type {\n",
              "        vertical-align: middle;\n",
              "    }\n",
              "\n",
              "    .dataframe tbody tr th {\n",
              "        vertical-align: top;\n",
              "    }\n",
              "\n",
              "    .dataframe thead th {\n",
              "        text-align: right;\n",
              "    }\n",
              "</style>\n",
              "<table border=\"1\" class=\"dataframe\">\n",
              "  <thead>\n",
              "    <tr style=\"text-align: right;\">\n",
              "      <th></th>\n",
              "      <th>name</th>\n",
              "      <th>description</th>\n",
              "      <th>employees</th>\n",
              "      <th>total_funding</th>\n",
              "      <th>city</th>\n",
              "      <th>subcountry</th>\n",
              "      <th>lat</th>\n",
              "      <th>lng</th>\n",
              "      <th>Unnamed: 8</th>\n",
              "      <th>Unnamed: 9</th>\n",
              "      <th>Unnamed: 10</th>\n",
              "      <th>Unnamed: 11</th>\n",
              "      <th>Unnamed: 12</th>\n",
              "      <th>Unnamed: 13</th>\n",
              "      <th>Unnamed: 14</th>\n",
              "      <th>Unnamed: 15</th>\n",
              "      <th>Unnamed: 16</th>\n",
              "      <th>Unnamed: 17</th>\n",
              "      <th>Unnamed: 18</th>\n",
              "    </tr>\n",
              "  </thead>\n",
              "  <tbody>\n",
              "    <tr>\n",
              "      <th>0</th>\n",
              "      <td>fitin</td>\n",
              "      <td>fitin is the latest fit tech platform that pro...</td>\n",
              "      <td>1.0</td>\n",
              "      <td>NaN</td>\n",
              "      <td>toronto</td>\n",
              "      <td>ontario</td>\n",
              "      <td>43700109999999904</td>\n",
              "      <td>-794163</td>\n",
              "      <td>NaN</td>\n",
              "      <td>NaN</td>\n",
              "      <td>NaN</td>\n",
              "      <td>NaN</td>\n",
              "      <td>NaN</td>\n",
              "      <td>NaN</td>\n",
              "      <td>NaN</td>\n",
              "      <td>NaN</td>\n",
              "      <td>NaN</td>\n",
              "      <td>NaN</td>\n",
              "      <td>NaN</td>\n",
              "    </tr>\n",
              "    <tr>\n",
              "      <th>1</th>\n",
              "      <td>quinditech</td>\n",
              "      <td>our services include independent &amp; collaborati...</td>\n",
              "      <td>10.0</td>\n",
              "      <td>NaN</td>\n",
              "      <td>montreal</td>\n",
              "      <td>quebec</td>\n",
              "      <td>4550884</td>\n",
              "      <td>-7358781</td>\n",
              "      <td>NaN</td>\n",
              "      <td>NaN</td>\n",
              "      <td>NaN</td>\n",
              "      <td>NaN</td>\n",
              "      <td>NaN</td>\n",
              "      <td>NaN</td>\n",
              "      <td>NaN</td>\n",
              "      <td>NaN</td>\n",
              "      <td>NaN</td>\n",
              "      <td>NaN</td>\n",
              "      <td>NaN</td>\n",
              "    </tr>\n",
              "    <tr>\n",
              "      <th>2</th>\n",
              "      <td>botfirst</td>\n",
              "      <td>chatlanding is a digital chatbot platform wher...</td>\n",
              "      <td>1.0</td>\n",
              "      <td>NaN</td>\n",
              "      <td>toronto</td>\n",
              "      <td>ontario</td>\n",
              "      <td>43700109999999904</td>\n",
              "      <td>-794163</td>\n",
              "      <td>NaN</td>\n",
              "      <td>NaN</td>\n",
              "      <td>NaN</td>\n",
              "      <td>NaN</td>\n",
              "      <td>NaN</td>\n",
              "      <td>NaN</td>\n",
              "      <td>NaN</td>\n",
              "      <td>NaN</td>\n",
              "      <td>NaN</td>\n",
              "      <td>NaN</td>\n",
              "      <td>NaN</td>\n",
              "    </tr>\n",
              "    <tr>\n",
              "      <th>3</th>\n",
              "      <td>bravver</td>\n",
              "      <td>ai-powered army of health professionals in you...</td>\n",
              "      <td>1.0</td>\n",
              "      <td>NaN</td>\n",
              "      <td>quebec</td>\n",
              "      <td>quebec</td>\n",
              "      <td>468259601</td>\n",
              "      <td>-7123522259999990</td>\n",
              "      <td>NaN</td>\n",
              "      <td>NaN</td>\n",
              "      <td>NaN</td>\n",
              "      <td>NaN</td>\n",
              "      <td>NaN</td>\n",
              "      <td>NaN</td>\n",
              "      <td>NaN</td>\n",
              "      <td>NaN</td>\n",
              "      <td>NaN</td>\n",
              "      <td>NaN</td>\n",
              "      <td>NaN</td>\n",
              "    </tr>\n",
              "    <tr>\n",
              "      <th>4</th>\n",
              "      <td>stylify</td>\n",
              "      <td>stylify is a mobile platform that connects peo...</td>\n",
              "      <td>1.0</td>\n",
              "      <td>NaN</td>\n",
              "      <td>toronto</td>\n",
              "      <td>ontario</td>\n",
              "      <td>43700109999999904</td>\n",
              "      <td>-794163</td>\n",
              "      <td>NaN</td>\n",
              "      <td>NaN</td>\n",
              "      <td>NaN</td>\n",
              "      <td>NaN</td>\n",
              "      <td>NaN</td>\n",
              "      <td>NaN</td>\n",
              "      <td>NaN</td>\n",
              "      <td>NaN</td>\n",
              "      <td>NaN</td>\n",
              "      <td>NaN</td>\n",
              "      <td>NaN</td>\n",
              "    </tr>\n",
              "  </tbody>\n",
              "</table>\n",
              "</div>\n",
              "    <div class=\"colab-df-buttons\">\n",
              "\n",
              "  <div class=\"colab-df-container\">\n",
              "    <button class=\"colab-df-convert\" onclick=\"convertToInteractive('df-15ab1e15-38d2-4a03-964a-c0c5c754362c')\"\n",
              "            title=\"Convert this dataframe to an interactive table.\"\n",
              "            style=\"display:none;\">\n",
              "\n",
              "  <svg xmlns=\"http://www.w3.org/2000/svg\" height=\"24px\" viewBox=\"0 -960 960 960\">\n",
              "    <path d=\"M120-120v-720h720v720H120Zm60-500h600v-160H180v160Zm220 220h160v-160H400v160Zm0 220h160v-160H400v160ZM180-400h160v-160H180v160Zm440 0h160v-160H620v160ZM180-180h160v-160H180v160Zm440 0h160v-160H620v160Z\"/>\n",
              "  </svg>\n",
              "    </button>\n",
              "\n",
              "  <style>\n",
              "    .colab-df-container {\n",
              "      display:flex;\n",
              "      gap: 12px;\n",
              "    }\n",
              "\n",
              "    .colab-df-convert {\n",
              "      background-color: #E8F0FE;\n",
              "      border: none;\n",
              "      border-radius: 50%;\n",
              "      cursor: pointer;\n",
              "      display: none;\n",
              "      fill: #1967D2;\n",
              "      height: 32px;\n",
              "      padding: 0 0 0 0;\n",
              "      width: 32px;\n",
              "    }\n",
              "\n",
              "    .colab-df-convert:hover {\n",
              "      background-color: #E2EBFA;\n",
              "      box-shadow: 0px 1px 2px rgba(60, 64, 67, 0.3), 0px 1px 3px 1px rgba(60, 64, 67, 0.15);\n",
              "      fill: #174EA6;\n",
              "    }\n",
              "\n",
              "    .colab-df-buttons div {\n",
              "      margin-bottom: 4px;\n",
              "    }\n",
              "\n",
              "    [theme=dark] .colab-df-convert {\n",
              "      background-color: #3B4455;\n",
              "      fill: #D2E3FC;\n",
              "    }\n",
              "\n",
              "    [theme=dark] .colab-df-convert:hover {\n",
              "      background-color: #434B5C;\n",
              "      box-shadow: 0px 1px 3px 1px rgba(0, 0, 0, 0.15);\n",
              "      filter: drop-shadow(0px 1px 2px rgba(0, 0, 0, 0.3));\n",
              "      fill: #FFFFFF;\n",
              "    }\n",
              "  </style>\n",
              "\n",
              "    <script>\n",
              "      const buttonEl =\n",
              "        document.querySelector('#df-15ab1e15-38d2-4a03-964a-c0c5c754362c button.colab-df-convert');\n",
              "      buttonEl.style.display =\n",
              "        google.colab.kernel.accessAllowed ? 'block' : 'none';\n",
              "\n",
              "      async function convertToInteractive(key) {\n",
              "        const element = document.querySelector('#df-15ab1e15-38d2-4a03-964a-c0c5c754362c');\n",
              "        const dataTable =\n",
              "          await google.colab.kernel.invokeFunction('convertToInteractive',\n",
              "                                                    [key], {});\n",
              "        if (!dataTable) return;\n",
              "\n",
              "        const docLinkHtml = 'Like what you see? Visit the ' +\n",
              "          '<a target=\"_blank\" href=https://colab.research.google.com/notebooks/data_table.ipynb>data table notebook</a>'\n",
              "          + ' to learn more about interactive tables.';\n",
              "        element.innerHTML = '';\n",
              "        dataTable['output_type'] = 'display_data';\n",
              "        await google.colab.output.renderOutput(dataTable, element);\n",
              "        const docLink = document.createElement('div');\n",
              "        docLink.innerHTML = docLinkHtml;\n",
              "        element.appendChild(docLink);\n",
              "      }\n",
              "    </script>\n",
              "  </div>\n",
              "\n",
              "\n",
              "<div id=\"df-09d4a722-72e5-4003-87e9-44924daff54e\">\n",
              "  <button class=\"colab-df-quickchart\" onclick=\"quickchart('df-09d4a722-72e5-4003-87e9-44924daff54e')\"\n",
              "            title=\"Suggest charts\"\n",
              "            style=\"display:none;\">\n",
              "\n",
              "<svg xmlns=\"http://www.w3.org/2000/svg\" height=\"24px\"viewBox=\"0 0 24 24\"\n",
              "     width=\"24px\">\n",
              "    <g>\n",
              "        <path d=\"M19 3H5c-1.1 0-2 .9-2 2v14c0 1.1.9 2 2 2h14c1.1 0 2-.9 2-2V5c0-1.1-.9-2-2-2zM9 17H7v-7h2v7zm4 0h-2V7h2v10zm4 0h-2v-4h2v4z\"/>\n",
              "    </g>\n",
              "</svg>\n",
              "  </button>\n",
              "\n",
              "<style>\n",
              "  .colab-df-quickchart {\n",
              "      --bg-color: #E8F0FE;\n",
              "      --fill-color: #1967D2;\n",
              "      --hover-bg-color: #E2EBFA;\n",
              "      --hover-fill-color: #174EA6;\n",
              "      --disabled-fill-color: #AAA;\n",
              "      --disabled-bg-color: #DDD;\n",
              "  }\n",
              "\n",
              "  [theme=dark] .colab-df-quickchart {\n",
              "      --bg-color: #3B4455;\n",
              "      --fill-color: #D2E3FC;\n",
              "      --hover-bg-color: #434B5C;\n",
              "      --hover-fill-color: #FFFFFF;\n",
              "      --disabled-bg-color: #3B4455;\n",
              "      --disabled-fill-color: #666;\n",
              "  }\n",
              "\n",
              "  .colab-df-quickchart {\n",
              "    background-color: var(--bg-color);\n",
              "    border: none;\n",
              "    border-radius: 50%;\n",
              "    cursor: pointer;\n",
              "    display: none;\n",
              "    fill: var(--fill-color);\n",
              "    height: 32px;\n",
              "    padding: 0;\n",
              "    width: 32px;\n",
              "  }\n",
              "\n",
              "  .colab-df-quickchart:hover {\n",
              "    background-color: var(--hover-bg-color);\n",
              "    box-shadow: 0 1px 2px rgba(60, 64, 67, 0.3), 0 1px 3px 1px rgba(60, 64, 67, 0.15);\n",
              "    fill: var(--button-hover-fill-color);\n",
              "  }\n",
              "\n",
              "  .colab-df-quickchart-complete:disabled,\n",
              "  .colab-df-quickchart-complete:disabled:hover {\n",
              "    background-color: var(--disabled-bg-color);\n",
              "    fill: var(--disabled-fill-color);\n",
              "    box-shadow: none;\n",
              "  }\n",
              "\n",
              "  .colab-df-spinner {\n",
              "    border: 2px solid var(--fill-color);\n",
              "    border-color: transparent;\n",
              "    border-bottom-color: var(--fill-color);\n",
              "    animation:\n",
              "      spin 1s steps(1) infinite;\n",
              "  }\n",
              "\n",
              "  @keyframes spin {\n",
              "    0% {\n",
              "      border-color: transparent;\n",
              "      border-bottom-color: var(--fill-color);\n",
              "      border-left-color: var(--fill-color);\n",
              "    }\n",
              "    20% {\n",
              "      border-color: transparent;\n",
              "      border-left-color: var(--fill-color);\n",
              "      border-top-color: var(--fill-color);\n",
              "    }\n",
              "    30% {\n",
              "      border-color: transparent;\n",
              "      border-left-color: var(--fill-color);\n",
              "      border-top-color: var(--fill-color);\n",
              "      border-right-color: var(--fill-color);\n",
              "    }\n",
              "    40% {\n",
              "      border-color: transparent;\n",
              "      border-right-color: var(--fill-color);\n",
              "      border-top-color: var(--fill-color);\n",
              "    }\n",
              "    60% {\n",
              "      border-color: transparent;\n",
              "      border-right-color: var(--fill-color);\n",
              "    }\n",
              "    80% {\n",
              "      border-color: transparent;\n",
              "      border-right-color: var(--fill-color);\n",
              "      border-bottom-color: var(--fill-color);\n",
              "    }\n",
              "    90% {\n",
              "      border-color: transparent;\n",
              "      border-bottom-color: var(--fill-color);\n",
              "    }\n",
              "  }\n",
              "</style>\n",
              "\n",
              "  <script>\n",
              "    async function quickchart(key) {\n",
              "      const quickchartButtonEl =\n",
              "        document.querySelector('#' + key + ' button');\n",
              "      quickchartButtonEl.disabled = true;  // To prevent multiple clicks.\n",
              "      quickchartButtonEl.classList.add('colab-df-spinner');\n",
              "      try {\n",
              "        const charts = await google.colab.kernel.invokeFunction(\n",
              "            'suggestCharts', [key], {});\n",
              "      } catch (error) {\n",
              "        console.error('Error during call to suggestCharts:', error);\n",
              "      }\n",
              "      quickchartButtonEl.classList.remove('colab-df-spinner');\n",
              "      quickchartButtonEl.classList.add('colab-df-quickchart-complete');\n",
              "    }\n",
              "    (() => {\n",
              "      let quickchartButtonEl =\n",
              "        document.querySelector('#df-09d4a722-72e5-4003-87e9-44924daff54e button');\n",
              "      quickchartButtonEl.style.display =\n",
              "        google.colab.kernel.accessAllowed ? 'block' : 'none';\n",
              "    })();\n",
              "  </script>\n",
              "</div>\n",
              "\n",
              "    </div>\n",
              "  </div>\n"
            ]
          },
          "metadata": {},
          "execution_count": 29
        }
      ]
    },
    {
      "cell_type": "code",
      "source": [
        "# Eliminar colunas desnecessárias\n",
        "df = df.drop(['Unnamed: 8', 'Unnamed: 9', 'Unnamed: 10', 'Unnamed: 11', 'Unnamed: 12', 'Unnamed: 13', 'Unnamed: 14', 'Unnamed: 15', 'Unnamed: 16', 'Unnamed: 17', 'Unnamed: 18'], axis=1)\n",
        "print(df.columns)"
      ],
      "metadata": {
        "colab": {
          "base_uri": "https://localhost:8080/"
        },
        "id": "raOonOZlFIFp",
        "outputId": "c6db8748-11e7-431a-e3e4-0c22d3b0b42a"
      },
      "execution_count": 32,
      "outputs": [
        {
          "output_type": "stream",
          "name": "stdout",
          "text": [
            "Index(['name', 'description', 'employees', 'total_funding', 'city',\n",
            "       'subcountry', 'lat', 'lng'],\n",
            "      dtype='object')\n"
          ]
        }
      ]
    },
    {
      "cell_type": "code",
      "source": [
        "#Machine Learning (APENAS COM FUNÇÃO) capaz de selecionar as principais empresas indicadas para desenvolver a solução\n",
        "\n",
        "# Defina os termos relacionados à água\n",
        "water_related_terms = ['solutions on waste and water', 'improve water quality', 'water efficiency use', 'water contamination', 'water for human consumption', 'water resources']\n",
        "\n",
        "# Criar uma função para verificar se a descrição contém os termos relacionados à água\n",
        "def contains_water_terms(description):\n",
        "    for term in water_related_terms:\n",
        "        if term in description.lower():\n",
        "            return 1\n",
        "    return 0\n",
        "\n",
        "# Aplicar a função para criar a nova coluna\n",
        "df['water_related_solution'] = df['description'].apply(contains_water_terms)\n",
        "\n",
        "# Exibir as empresas com soluções relacionadas à água\n",
        "water_related_companies = df[df['water_related_solution'] == 1]\n",
        "print(water_related_companies[['name', 'description']])\n"
      ],
      "metadata": {
        "colab": {
          "base_uri": "https://localhost:8080/"
        },
        "id": "ev8g2j4PP8j6",
        "outputId": "c316ee73-c8bb-48f8-cf56-138e9b99de89"
      },
      "execution_count": 45,
      "outputs": [
        {
          "output_type": "stream",
          "name": "stdout",
          "text": [
            "               name                                        description\n",
            "9410          ofbug  ofbug farms organic insects sustainable, affor...\n",
            "18926  aquanty inc.  aquanty is water resources technology firm pro...\n",
            "19846     sustainco  sustainco inc. (tsxv:sms) invests in growth, g...\n"
          ]
        }
      ]
    },
    {
      "cell_type": "code",
      "source": [
        "#Machine Learning (COM BIBLIOTECA NLTK) capaz de selecionar as principais empresas indicadas para desenvolver a solução\n",
        "import nltk\n",
        "nltk.download('punkt')\n",
        "from nltk.corpus import stopwords\n",
        "from nltk.tokenize import word_tokenize\n",
        "\n",
        "# Faça o download das stopwords (se ainda não tiver feito)\n",
        "nltk.download('stopwords')"
      ],
      "metadata": {
        "id": "FziCkuWNR9zL"
      },
      "execution_count": null,
      "outputs": []
    },
    {
      "cell_type": "code",
      "source": [
        "#Machine Learning (COM BIBLIOTECA NLTK) capaz de selecionar as principais empresas indicadas para desenvolver a solução\n",
        "\n",
        "\n",
        "# Definir os termos relacionados à água\n",
        "water_related_terms = ['solutions on waste and water', 'improve water quality', 'water efficiency use', 'water contamination', 'water for human consumption', 'water resources']\n",
        "\n",
        "# Criar uma função para verificar se a descrição contém os termos relacionados à água\n",
        "def contains_water_terms(description):\n",
        "    description = str(description).lower()  # Converte para minúsculas\n",
        "    words = word_tokenize(description)  # Tokeniza as palavras\n",
        "    filtered_words = [word for word in words if word not in stopwords.words('english')]  # Remove stopwords\n",
        "    for term in water_related_terms:\n",
        "        if term in ' '.join(filtered_words):\n",
        "            return 1\n",
        "    return 0\n",
        "\n",
        "# Aplicar a função para criar a nova coluna\n",
        "df['water_related_solution'] = df['description'].apply(contains_water_terms)\n",
        "\n",
        "# Exibir as empresas com soluções relacionadas à água\n",
        "water_related_companies = df[df['water_related_solution'] == 1]\n",
        "print(water_related_companies[['name', 'description']])"
      ],
      "metadata": {
        "colab": {
          "base_uri": "https://localhost:8080/"
        },
        "id": "A3Rb9RXCTAfK",
        "outputId": "ea36fd0d-17f7-43eb-cb7a-418a6aca398b"
      },
      "execution_count": 48,
      "outputs": [
        {
          "output_type": "stream",
          "name": "stdout",
          "text": [
            "               name                                        description\n",
            "9410          ofbug  ofbug farms organic insects sustainable, affor...\n",
            "18926  aquanty inc.  aquanty is water resources technology firm pro...\n",
            "19846     sustainco  sustainco inc. (tsxv:sms) invests in growth, g...\n"
          ]
        }
      ]
    },
    {
      "cell_type": "code",
      "source": [
        "#Quais são as principais cidades (pólos de desenvolvimento) para essa solução(tratamento de água)?\n",
        "\n",
        "# Defina os termos relacionados à água\n",
        "water_related_terms = ['solutions on waste and water', 'improve water quality', 'water efficiency use', 'water contamination', 'water for human consumption', 'water resources']\n",
        "\n",
        "# Crie uma função para verificar se a descrição contém os termos relacionados à água\n",
        "def contains_water_terms(description):\n",
        "    description = str(description).lower()\n",
        "    for term in water_related_terms:\n",
        "        if term in description:\n",
        "            return 1\n",
        "    return 0\n",
        "\n",
        "# Aplique a função para criar a nova coluna\n",
        "df['water_related_solution'] = df['description'].apply(contains_water_terms)\n",
        "\n",
        "# Filtrar empresas com soluções relacionadas à água\n",
        "water_related_companies = df[df['water_related_solution'] == 1]\n",
        "\n",
        "# Contar a frequência das principais cidades\n",
        "top_cities = water_related_companies['city'].value_counts().head(10)  # Ajuste o número conforme necessário\n",
        "print(\"Principais cidades para soluções de tratamento de água:\")\n",
        "print(top_cities)\n"
      ],
      "metadata": {
        "colab": {
          "base_uri": "https://localhost:8080/"
        },
        "id": "EBEi5MCGX84q",
        "outputId": "09c33a7b-915a-48c3-f0a4-54dda2e50c6f"
      },
      "execution_count": 61,
      "outputs": [
        {
          "output_type": "stream",
          "name": "stdout",
          "text": [
            "Principais cidades para soluções de tratamento de água:\n",
            "toronto      2\n",
            "vancouver    1\n",
            "Name: city, dtype: int64\n"
          ]
        }
      ]
    },
    {
      "cell_type": "code",
      "source": [
        "#Que tal realizarmos uma análise de sentimento?\n",
        "\n",
        "import nltk\n",
        "from nltk.sentiment import SentimentIntensityAnalyzer\n",
        "\n",
        "# Faça o download do recurso VADER para análise de sentimentos\n",
        "nltk.download('vader_lexicon')\n",
        "\n",
        "# Inicialize o Sentiment Intensity Analyzer\n",
        "sia = SentimentIntensityAnalyzer()\n",
        "\n",
        "# Aplique a análise de sentimentos nas descrições\n",
        "df['sentiment_score'] = df['description'].apply(lambda x: sia.polarity_scores(str(x))['compound'])\n",
        "\n",
        "# Exiba as empresas com as descrições mais positivas\n",
        "positive_companies = df[df['sentiment_score'] > 0.2]  # Ajuste o limiar conforme necessário\n",
        "print(\"Empresas com descrições positivas:\")\n",
        "print(positive_companies[['name', 'description', 'sentiment_score']])"
      ],
      "metadata": {
        "id": "x9-t8ameVzJo"
      },
      "execution_count": null,
      "outputs": []
    },
    {
      "cell_type": "code",
      "source": [
        "#Ordenar Pela Maior Pontuação\n",
        "\n",
        "# Ordenar o DataFrame pela coluna 'sentiment_score' em ordem decrescente\n",
        "sorted_df_by_sentiment = df.sort_values(by='sentiment_score', ascending=False)\n",
        "\n",
        "# Exibir as empresas com as maiores pontuações de sentimento\n",
        "top_sentiment_companies = sorted_df_by_sentiment.head(10)  # Ajuste o número conforme necessário\n",
        "print(\"Top empresas com as maiores pontuações de sentimento:\")\n",
        "print(top_sentiment_companies[['name', 'description', 'sentiment_score']])\n"
      ],
      "metadata": {
        "colab": {
          "base_uri": "https://localhost:8080/"
        },
        "id": "qkYGT0lvXSRC",
        "outputId": "bcf6c4ab-7a1f-48d3-9362-f02644e0913e"
      },
      "execution_count": 60,
      "outputs": [
        {
          "output_type": "stream",
          "name": "stdout",
          "text": [
            "Top empresas com as maiores pontuações de sentimento:\n",
            "                               name  \\\n",
            "12912                       semanti   \n",
            "2122        new concept recruiting    \n",
            "20961                        semafo   \n",
            "11259        new concept recruiting   \n",
            "15885  concours chanceux du quÃ©bec   \n",
            "19289                  rocket foods   \n",
            "12890           sales talent agency   \n",
            "20209                   mirror read   \n",
            "12005           discovery loft inc.   \n",
            "19580                       flofoto   \n",
            "\n",
            "                                             description  sentiment_score  \n",
            "12912  semanti corporation develops smart social sear...           0.9990  \n",
            "2122   new concept recruiting is premier talent acqui...           0.9984  \n",
            "20961  semafoâ€™s corporate vision â€“ establish endu...           0.9984  \n",
            "11259  new concept recruiting is premier talent acqui...           0.9982  \n",
            "15885  welcome to concourschanceux.com!your reference...           0.9981  \n",
            "19289  in his mid-thirties, the founder of the compan...           0.9978  \n",
            "12890  sales talent agency is canada's best sales rec...           0.9977  \n",
            "20209  mirror read is an innovative educational game ...           0.9974  \n",
            "12005  our ideas from zero-to-sixtytm venture studio ...           0.9973  \n",
            "19580  we are tennille & zoe and together we are in o...           0.9973  \n"
          ]
        }
      ]
    },
    {
      "cell_type": "code",
      "source": [
        "#Desenvolver estatística para funcionários\n",
        "desc_stats = df[['employees', 'total_funding']].describe()\n",
        "print(desc_stats)\n"
      ],
      "metadata": {
        "colab": {
          "base_uri": "https://localhost:8080/"
        },
        "id": "UPNLs21cU0ha",
        "outputId": "f70921db-c0f0-4be3-f46d-55d99b9b441e"
      },
      "execution_count": 54,
      "outputs": [
        {
          "output_type": "stream",
          "name": "stdout",
          "text": [
            "       employees total_funding\n",
            "count      20284          2186\n",
            "unique       119           977\n",
            "top          0.0             -\n",
            "freq        7946           635\n"
          ]
        }
      ]
    },
    {
      "cell_type": "code",
      "source": [
        "#Verificar qual empresa tem mais funcionários\n",
        "\n",
        "# Ordenar o DataFrame pela coluna 'employees' em ordem decrescente\n",
        "sorted_df_by_employees = df.sort_values(by='employees', ascending=False)\n",
        "\n",
        "# Exibir a empresa com o maior número de funcionários\n",
        "company_with_most_employees = sorted_df_by_employees.head(1)\n",
        "print(\"Empresa com mais funcionários:\")\n",
        "print(company_with_most_employees[['name']])\n"
      ],
      "metadata": {
        "colab": {
          "base_uri": "https://localhost:8080/"
        },
        "id": "QoJUDWqWVf2v",
        "outputId": "3baefe47-1361-428b-80f0-45c1b29cca30"
      },
      "execution_count": 58,
      "outputs": [
        {
          "output_type": "stream",
          "name": "stdout",
          "text": [
            "Empresa com mais funcionários:\n",
            "                        name\n",
            "15687  bell aliant - defence\n"
          ]
        }
      ]
    },
    {
      "cell_type": "code",
      "source": [
        "!pip install folium"
      ],
      "metadata": {
        "colab": {
          "base_uri": "https://localhost:8080/"
        },
        "id": "Mh09D3RyYZy7",
        "outputId": "d5d73b37-aca3-4d12-c240-5fedb26d2f1c"
      },
      "execution_count": 62,
      "outputs": [
        {
          "output_type": "stream",
          "name": "stdout",
          "text": [
            "Requirement already satisfied: folium in /usr/local/lib/python3.10/dist-packages (0.14.0)\n",
            "Requirement already satisfied: branca>=0.6.0 in /usr/local/lib/python3.10/dist-packages (from folium) (0.7.0)\n",
            "Requirement already satisfied: jinja2>=2.9 in /usr/local/lib/python3.10/dist-packages (from folium) (3.1.3)\n",
            "Requirement already satisfied: numpy in /usr/local/lib/python3.10/dist-packages (from folium) (1.23.5)\n",
            "Requirement already satisfied: requests in /usr/local/lib/python3.10/dist-packages (from folium) (2.31.0)\n",
            "Requirement already satisfied: MarkupSafe>=2.0 in /usr/local/lib/python3.10/dist-packages (from jinja2>=2.9->folium) (2.1.3)\n",
            "Requirement already satisfied: charset-normalizer<4,>=2 in /usr/local/lib/python3.10/dist-packages (from requests->folium) (3.3.2)\n",
            "Requirement already satisfied: idna<4,>=2.5 in /usr/local/lib/python3.10/dist-packages (from requests->folium) (3.6)\n",
            "Requirement already satisfied: urllib3<3,>=1.21.1 in /usr/local/lib/python3.10/dist-packages (from requests->folium) (2.0.7)\n",
            "Requirement already satisfied: certifi>=2017.4.17 in /usr/local/lib/python3.10/dist-packages (from requests->folium) (2023.11.17)\n"
          ]
        }
      ]
    },
    {
      "cell_type": "code",
      "source": [
        "#Que tal vermos a distribuição da geolocalização das empresas?\n",
        "\n",
        "import folium\n",
        "\n",
        "# Convertendo as colunas 'lat' e 'lng' para números\n",
        "df['lat'] = pd.to_numeric(df['lat'], errors='coerce')\n",
        "df['lng'] = pd.to_numeric(df['lng'], errors='coerce')\n",
        "\n",
        "# Removendo linhas com valores nulos nas coordenadas\n",
        "df = df.dropna(subset=['lat', 'lng'])\n",
        "\n",
        "# Criar um mapa centrado nas coordenadas médias\n",
        "latitude_media = df['lat'].mean()\n",
        "longitude_media = df['lng'].mean()\n",
        "mapa = folium.Map(location=[latitude_media, longitude_media], zoom_start=4)\n",
        "\n",
        "# Adicionar marcadores para cada empresa\n",
        "for index, row in df.iterrows():\n",
        "    folium.Marker([row['lat'], row['lng']], popup=row['name']).add_to(mapa)\n",
        "\n",
        "# Exibir o mapa\n",
        "mapa\n"
      ],
      "metadata": {
        "id": "FVuO-M4MYf8a"
      },
      "execution_count": null,
      "outputs": []
    }
  ]
}